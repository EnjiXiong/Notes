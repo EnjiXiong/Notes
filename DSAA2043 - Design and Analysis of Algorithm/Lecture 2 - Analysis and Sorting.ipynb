{
 "cells": [
  {
   "cell_type": "markdown",
   "metadata": {},
   "source": [
    "# Lecture 2\n",
    "menu\n",
    "- Asymptotic analysis (time and space)\n",
    "- algorithm of sorting\n",
    "\n",
    "## Asymptotic analysis"
   ]
  },
  {
   "cell_type": "markdown",
   "metadata": {},
   "source": [
    "time analysis: how the running time of an algorithm increases with the size of the input in the limit\n",
    "\n",
    "example: $O(3n^{2}) = O(n^{2})$\n",
    "\n",
    "Usually, time consumption is of 3 versions. Best/Average/Worst time.\n",
    "\n",
    "Some examples in PPT.\n"
   ]
  },
  {
   "cell_type": "markdown",
   "metadata": {},
   "source": [
    "• f(n) is $O(g(n))$ ≅ f ≤ g\n",
    "\n",
    "• f(n) is $Ω(g(n))$ ≅ f ≥ g\n",
    "\n",
    "• f(n) is $Θ(g(n))$ ≅ f = g\n",
    "\n",
    "• f(n) is $o(g(n))$ ≅ f < g\n",
    "\n",
    "• f(n) is $ω(g(n))$ ≅ f > g"
   ]
  },
  {
   "cell_type": "markdown",
   "metadata": {},
   "source": [
    "## Sorting algorithm"
   ]
  },
  {
   "cell_type": "code",
   "execution_count": null,
   "metadata": {},
   "outputs": [],
   "source": []
  }
 ],
 "metadata": {
  "language_info": {
   "name": "python"
  }
 },
 "nbformat": 4,
 "nbformat_minor": 2
}
